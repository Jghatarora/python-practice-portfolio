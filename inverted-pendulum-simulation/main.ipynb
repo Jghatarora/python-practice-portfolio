{
 "cells": [
  {
   "cell_type": "code",
   "execution_count": 142,
   "metadata": {},
   "outputs": [],
   "source": [
    "import numpy as np\n",
    "import sympy as smp\n",
    "from scipy.integrate import odeint\n",
    "import matplotlib.pyplot as plt\n",
    "from matplotlib import animation\n",
    "from mpl_toolkits.mplot3d import Axes3D\n",
    "from matplotlib.animation import PillowWriter"
   ]
  },
  {
   "cell_type": "markdown",
   "metadata": {},
   "source": [
    "Position confined to some 1D path: $x=x(\\theta)$ and $y=y(\\theta)$\n",
    "\n",
    "A few examples\n",
    "   \n",
    "Parabola: $x =\\theta$ and $y=\\theta^2$\n",
    "\n",
    "Simple Pendulum: $x = \\cos(\\theta)$ and $y=\\sin(\\theta)$\n",
    "\n",
    "Tautochrone: $x = \\sin(2\\theta) + 2\\theta$ and $y=1-\\cos(2 \\theta)$\n",
    "\n",
    "Many more ...\n",
    "\n",
    "Kinetic Energy: $ T = \\frac{1}{2}m (\\dot{x}^2 + \\dot{y}^2) $\n",
    "\n",
    "Potential Energy: $ V = mgy $\n",
    "\n",
    "The Lagrangian: $L = T- V $\n",
    "\n",
    "Lagranges Equation: $\\frac{dL}{d\\theta} - \\frac{d}{dt} \\frac{dL}{d\\dot{\\theta}} = 0$"
   ]
  },
  {
   "cell_type": "code",
   "execution_count": 143,
   "metadata": {},
   "outputs": [],
   "source": [
    "t, m, g = smp.symbols('t m g')\n",
    "theta = smp.symbols(r'\\theta', cls=smp.Function)\n",
    "theta = theta(t)\n",
    "theta_d = smp.diff(theta, t)\n",
    "theta_dd = smp.diff(theta_d, t)"
   ]
  },
  {
   "cell_type": "code",
   "execution_count": 144,
   "metadata": {},
   "outputs": [
    {
     "data": {
      "text/latex": [
       "$\\displaystyle \\frac{d^{2}}{d t^{2}} \\theta{\\left(t \\right)}$"
      ],
      "text/plain": [
       "Derivative(\\theta(t), (t, 2))"
      ]
     },
     "execution_count": 144,
     "metadata": {},
     "output_type": "execute_result"
    }
   ],
   "source": [
    "theta_dd"
   ]
  },
  {
   "cell_type": "code",
   "execution_count": 145,
   "metadata": {},
   "outputs": [],
   "source": [
    "x, y = smp.symbols('x y', cls=smp.Function)\n",
    "x = x(theta)\n",
    "y = y(theta)"
   ]
  },
  {
   "cell_type": "code",
   "execution_count": 146,
   "metadata": {},
   "outputs": [],
   "source": [
    "# Define x and y\n",
    "path = 'parab'\n",
    "if path == 'parab':\n",
    "    x = theta\n",
    "    y = theta**2\n",
    "    x_f = smp.lambdify(theta, x)\n",
    "    y_f = smp.lambdify(theta, y)\n"
   ]
  },
  {
   "cell_type": "code",
   "execution_count": 147,
   "metadata": {},
   "outputs": [],
   "source": [
    "T = 1/2*m*(smp.diff(x,t)**2+smp.diff(y,t)**2)\n",
    "V = m*g*y\n",
    "L = T-V"
   ]
  },
  {
   "cell_type": "code",
   "execution_count": 148,
   "metadata": {},
   "outputs": [
    {
     "data": {
      "text/latex": [
       "$\\displaystyle - m \\left(2 g \\theta{\\left(t \\right)} + 4.0 \\theta^{2}{\\left(t \\right)} \\frac{d^{2}}{d t^{2}} \\theta{\\left(t \\right)} + 4.0 \\theta{\\left(t \\right)} \\left(\\frac{d}{d t} \\theta{\\left(t \\right)}\\right)^{2} + 1.0 \\frac{d^{2}}{d t^{2}} \\theta{\\left(t \\right)}\\right)$"
      ],
      "text/plain": [
       "-m*(2*g*\\theta(t) + 4.0*\\theta(t)**2*Derivative(\\theta(t), (t, 2)) + 4.0*\\theta(t)*Derivative(\\theta(t), t)**2 + 1.0*Derivative(\\theta(t), (t, 2)))"
      ]
     },
     "execution_count": 148,
     "metadata": {},
     "output_type": "execute_result"
    }
   ],
   "source": [
    "LE = smp.diff(L, theta) - smp.diff(smp.diff(L, theta_d), t)\n",
    "LE = LE.simplify()\n",
    "LE"
   ]
  },
  {
   "cell_type": "code",
   "execution_count": 149,
   "metadata": {},
   "outputs": [],
   "source": [
    "deriv_2 = smp.solve(LE, theta_dd)[0]\n",
    "deriv_1 = theta_d"
   ]
  },
  {
   "cell_type": "code",
   "execution_count": 150,
   "metadata": {},
   "outputs": [],
   "source": [
    "deriv2_f = smp.lambdify((g, theta, theta_d), deriv_2)\n",
    "deriv1_f = smp.lambdify(theta_d, theta_d)\n"
   ]
  },
  {
   "cell_type": "markdown",
   "metadata": {},
   "source": [
    "$S = (\\theta, \\omega)$"
   ]
  },
  {
   "cell_type": "code",
   "execution_count": 151,
   "metadata": {},
   "outputs": [],
   "source": [
    "def dSdt(S, t):\n",
    "    return [\n",
    "        deriv1_f(S[1]), #dtheta/dt\n",
    "        deriv2_f(g, S[0], S[1]), #domega/dt\n",
    "    ]"
   ]
  },
  {
   "cell_type": "code",
   "execution_count": 152,
   "metadata": {},
   "outputs": [],
   "source": [
    "t = np.linspace(0,20,1000)\n",
    "g = 9.81\n",
    "ans = odeint(dSdt, y0=[2,0], t=t)\n",
    "ans_2 = odeint(dSdt, y0=[3,0], t=t)"
   ]
  },
  {
   "cell_type": "code",
   "execution_count": 153,
   "metadata": {},
   "outputs": [
    {
     "data": {
      "text/plain": [
       "[<matplotlib.lines.Line2D at 0x1bf933c6670>]"
      ]
     },
     "execution_count": 153,
     "metadata": {},
     "output_type": "execute_result"
    },
    {
     "data": {
      "image/png": "[encoded data removed]",
      "text/plain": [
       "<Figure size 432x288 with 1 Axes>"
      ]
     },
     "metadata": {
      "needs_background": "light"
     },
     "output_type": "display_data"
    }
   ],
   "source": [
    "plt.plot(t, ans.T[0])"
   ]
  },
  {
   "cell_type": "code",
   "execution_count": 154,
   "metadata": {},
   "outputs": [],
   "source": [
    "def get_xy(theta):\n",
    "    return x_f(theta), y_f(theta)"
   ]
  },
  {
   "cell_type": "code",
   "execution_count": 155,
   "metadata": {},
   "outputs": [],
   "source": [
    "x1, y1 = get_xy(ans.T[0])\n",
    "x2, y2 = get_xy(ans_2.T[0])"
   ]
  },
  {
   "cell_type": "code",
   "execution_count": 156,
   "metadata": {},
   "outputs": [
    {
     "data": {
      "image/png": "[encoded data removed]",
      "text/plain": [
       "<Figure size 432x288 with 1 Axes>"
      ]
     },
     "metadata": {
      "needs_background": "light"
     },
     "output_type": "display_data"
    }
   ],
   "source": [
    "def animate(i):\n",
    "    ln1.set_data([x1[i]], [y1[i]])\n",
    "    ln2.set_data([x2[i]], [y2[i]])\n",
    "\n",
    "\n",
    "fig, ax = plt.subplots(1,1)\n",
    "ax.grid()\n",
    "ln1, = plt.plot([],[],'ro')\n",
    "ln2, = plt.plot([],[],'ro')\n",
    "ax.set_ylim(-1,16)\n",
    "ax.set_xlim(-4,4)\n",
    "ani = animation.FuncAnimation(fig, animate, frames=1000, interval = 50)\n",
    "ani.save('pen.gif', writer='pillow', fps = 50)\n"
   ]
  }
 ],
 "metadata": {
  "interpreter": {
   "hash": "e4aa54cd0cac7bec6044b52fb7f0ce30ac9866f89c6b7a41573699909b56b30f"
  },
  "kernelspec": {
   "display_name": "Python 3.8.10 64-bit (windows store)",
   "language": "python",
   "name": "python3"
  },
  "language_info": {
   "codemirror_mode": {
    "name": "ipython",
    "version": 3
   },
   "file_extension": ".py",
   "mimetype": "text/x-python",
   "name": "python",
   "nbconvert_exporter": "python",
   "pygments_lexer": "ipython3",
   "version": "3.8.10"
  },
  "orig_nbformat": 4
 },
 "nbformat": 4,
 "nbformat_minor": 2
}
